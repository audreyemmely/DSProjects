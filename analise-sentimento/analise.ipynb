{
  "nbformat": 4,
  "nbformat_minor": 0,
  "metadata": {
    "colab": {
      "name": "analise.ipynb",
      "provenance": [],
      "toc_visible": true
    },
    "kernelspec": {
      "name": "python3",
      "display_name": "Python 3"
    }
  },
  "cells": [
    {
      "cell_type": "markdown",
      "metadata": {
        "id": "aG763kOFQdMV"
      },
      "source": [
        "# **Análise de sentimento**\n",
        "A análise de sentimentos é uma mineração contextual de um texto que identifica e extrai informações subjetivas no material de origem. Ela ajuda as empresas a entenderem o sentimento social de sua marca, produto ou serviço.\n",
        "\n",
        "Um sistema de análise de sentimentos para conteúdo textual combina o processamento de linguagem natural (PLN) e técnicas de aprendizado de máquina para atribuir pontuações ponderadas de sentimento às sentenças.\n",
        "\n",
        "\n",
        "---\n",
        "\n"
      ]
    },
    {
      "cell_type": "markdown",
      "metadata": {
        "id": "exb1NXiiRwid"
      },
      "source": [
        "Primeiro, precisamos importar as bibliotecas que serão utilizadas nesse script\n"
      ]
    },
    {
      "cell_type": "code",
      "metadata": {
        "id": "NJRt3IQWhygw"
      },
      "source": [
        "import pandas as pd\n",
        "from sklearn.feature_extraction.text import CountVectorizer\n",
        "from sklearn.naive_bayes import MultinomialNB\n",
        "from sklearn.metrics import accuracy_score, classification_report\n",
        "from sklearn.model_selection import cross_val_predict"
      ],
      "execution_count": null,
      "outputs": []
    },
    {
      "cell_type": "markdown",
      "metadata": {
        "id": "TYLb7V1-OLmB"
      },
      "source": [
        "\n",
        "Importando a base de dados"
      ]
    },
    {
      "cell_type": "code",
      "metadata": {
        "id": "o86nPUkcOL9A"
      },
      "source": [
        "base_de_dados = pd.read_csv('https://raw.githubusercontent.com/audreyemmely/DSProjects/master/analise-sentimento/analise-base.csv')"
      ],
      "execution_count": 2,
      "outputs": []
    },
    {
      "cell_type": "markdown",
      "metadata": {
        "id": "2i71jiuIOMFg"
      },
      "source": [
        "Olhando o existente na base de dados\n",
        "\n"
      ]
    },
    {
      "cell_type": "code",
      "metadata": {
        "id": "0NAebFpaOMMa",
        "outputId": "6adbf89c-e786-4c7d-eaee-c275e56b6f78",
        "colab": {
          "base_uri": "https://localhost:8080/",
          "height": 204
        }
      },
      "source": [
        "base_de_dados.head()"
      ],
      "execution_count": 3,
      "outputs": [
        {
          "output_type": "execute_result",
          "data": {
            "text/html": [
              "<div>\n",
              "<style scoped>\n",
              "    .dataframe tbody tr th:only-of-type {\n",
              "        vertical-align: middle;\n",
              "    }\n",
              "\n",
              "    .dataframe tbody tr th {\n",
              "        vertical-align: top;\n",
              "    }\n",
              "\n",
              "    .dataframe thead th {\n",
              "        text-align: right;\n",
              "    }\n",
              "</style>\n",
              "<table border=\"1\" class=\"dataframe\">\n",
              "  <thead>\n",
              "    <tr style=\"text-align: right;\">\n",
              "      <th></th>\n",
              "      <th>Frase</th>\n",
              "      <th>Sentimento</th>\n",
              "    </tr>\n",
              "  </thead>\n",
              "  <tbody>\n",
              "    <tr>\n",
              "      <th>0</th>\n",
              "      <td>a pandemia me impediu de fazer muitas coisas l...</td>\n",
              "      <td>tristeza</td>\n",
              "    </tr>\n",
              "    <tr>\n",
              "      <th>1</th>\n",
              "      <td>acordei desanimada, não quero fazer nada o dia...</td>\n",
              "      <td>tristeza</td>\n",
              "    </tr>\n",
              "    <tr>\n",
              "      <th>2</th>\n",
              "      <td>não consigo parar de chorar, foi horrível perd...</td>\n",
              "      <td>tristeza</td>\n",
              "    </tr>\n",
              "    <tr>\n",
              "      <th>3</th>\n",
              "      <td>me sinto amada pelos meus familiares e isso me...</td>\n",
              "      <td>felicidade</td>\n",
              "    </tr>\n",
              "    <tr>\n",
              "      <th>4</th>\n",
              "      <td>estou feliz porque consegui o estágio que quer...</td>\n",
              "      <td>felicidade</td>\n",
              "    </tr>\n",
              "  </tbody>\n",
              "</table>\n",
              "</div>"
            ],
            "text/plain": [
              "                                               Frase  Sentimento\n",
              "0  a pandemia me impediu de fazer muitas coisas l...    tristeza\n",
              "1  acordei desanimada, não quero fazer nada o dia...    tristeza\n",
              "2  não consigo parar de chorar, foi horrível perd...    tristeza\n",
              "3  me sinto amada pelos meus familiares e isso me...  felicidade\n",
              "4  estou feliz porque consegui o estágio que quer...  felicidade"
            ]
          },
          "metadata": {
            "tags": []
          },
          "execution_count": 3
        }
      ]
    },
    {
      "cell_type": "markdown",
      "metadata": {
        "id": "4hMGL-EOOMTn"
      },
      "source": [
        "Contando a quantidade total de registros"
      ]
    },
    {
      "cell_type": "code",
      "metadata": {
        "id": "Nlzf8wJCOMaa",
        "outputId": "ab287d90-2c98-4819-903a-d2050428ebd7",
        "colab": {
          "base_uri": "https://localhost:8080/"
        }
      },
      "source": [
        "base_de_dados.count()"
      ],
      "execution_count": 4,
      "outputs": [
        {
          "output_type": "execute_result",
          "data": {
            "text/plain": [
              "Frase         66\n",
              "Sentimento    66\n",
              "dtype: int64"
            ]
          },
          "metadata": {
            "tags": []
          },
          "execution_count": 4
        }
      ]
    },
    {
      "cell_type": "markdown",
      "metadata": {
        "id": "GhibLaVTOMhb"
      },
      "source": [
        "Contando quantas frases têm sentimento igual a felicidade"
      ]
    },
    {
      "cell_type": "code",
      "metadata": {
        "id": "FVj92KCgOMr5",
        "outputId": "d3a75631-d9a9-4cf4-ee7c-31e8a4e138c2",
        "colab": {
          "base_uri": "https://localhost:8080/"
        }
      },
      "source": [
        "base_de_dados[base_de_dados.Sentimento == 'felicidade'].count()"
      ],
      "execution_count": 5,
      "outputs": [
        {
          "output_type": "execute_result",
          "data": {
            "text/plain": [
              "Frase         19\n",
              "Sentimento    19\n",
              "dtype: int64"
            ]
          },
          "metadata": {
            "tags": []
          },
          "execution_count": 5
        }
      ]
    },
    {
      "cell_type": "markdown",
      "metadata": {
        "id": "8-bc9yKeOxB_"
      },
      "source": [
        "Contando quantas frases têm sentimento igual a raiva"
      ]
    },
    {
      "cell_type": "code",
      "metadata": {
        "id": "IRYHm5o9OxJ4",
        "outputId": "8be324e4-9b5f-43ac-ca6a-11b93e33e0d3",
        "colab": {
          "base_uri": "https://localhost:8080/"
        }
      },
      "source": [
        "base_de_dados[base_de_dados.Sentimento == 'raiva'].count()"
      ],
      "execution_count": 6,
      "outputs": [
        {
          "output_type": "execute_result",
          "data": {
            "text/plain": [
              "Frase         23\n",
              "Sentimento    23\n",
              "dtype: int64"
            ]
          },
          "metadata": {
            "tags": []
          },
          "execution_count": 6
        }
      ]
    },
    {
      "cell_type": "markdown",
      "metadata": {
        "id": "7DTzxOVfOxQ4"
      },
      "source": [
        "Contando quantas frases têm sentimento igual a tristeza"
      ]
    },
    {
      "cell_type": "code",
      "metadata": {
        "id": "z5qY0i1oOxYf",
        "outputId": "455568fb-78a8-4af8-8933-f5d9e661f785",
        "colab": {
          "base_uri": "https://localhost:8080/"
        }
      },
      "source": [
        "base_de_dados[base_de_dados.Sentimento == 'tristeza'].count()"
      ],
      "execution_count": 7,
      "outputs": [
        {
          "output_type": "execute_result",
          "data": {
            "text/plain": [
              "Frase         24\n",
              "Sentimento    24\n",
              "dtype: int64"
            ]
          },
          "metadata": {
            "tags": []
          },
          "execution_count": 7
        }
      ]
    }
  ]
}