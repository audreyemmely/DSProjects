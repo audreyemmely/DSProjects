{
  "nbformat": 4,
  "nbformat_minor": 0,
  "metadata": {
    "colab": {
      "name": "analise.ipynb",
      "provenance": [],
      "toc_visible": true
    },
    "kernelspec": {
      "name": "python3",
      "display_name": "Python 3"
    }
  },
  "cells": [
    {
      "cell_type": "markdown",
      "metadata": {
        "id": "aG763kOFQdMV"
      },
      "source": [
        "# **Análise de sentimento**\n",
        "A análise de sentimentos é uma mineração contextual de um texto que identifica e extrai informações subjetivas no material de origem. Ela ajuda as empresas a entenderem o sentimento social de sua marca, produto ou serviço.\n",
        "\n",
        "Um sistema de análise de sentimentos para conteúdo textual combina o processamento de linguagem natural (PLN) e técnicas de aprendizado de máquina para atribuir pontuações ponderadas de sentimento às sentenças.\n",
        "\n",
        "\n",
        "---\n",
        "\n"
      ]
    },
    {
      "cell_type": "markdown",
      "metadata": {
        "id": "exb1NXiiRwid"
      },
      "source": [
        "Primeiro, precisamos importar as bibliotecas que serão utilizadas nesse script\n"
      ]
    },
    {
      "cell_type": "code",
      "metadata": {
        "id": "NJRt3IQWhygw"
      },
      "source": [
        "import pandas as pd\n",
        "from sklearn.feature_extraction.text import CountVectorizer\n",
        "from sklearn.naive_bayes import MultinomialNB\n",
        "from sklearn.metrics import accuracy_score, classification_report\n",
        "from sklearn.model_selection import cross_val_predict"
      ],
      "execution_count": 1,
      "outputs": []
    },
    {
      "cell_type": "markdown",
      "metadata": {
        "id": "TYLb7V1-OLmB"
      },
      "source": [
        "\n",
        "Importando a base de dados"
      ]
    },
    {
      "cell_type": "code",
      "metadata": {
        "id": "o86nPUkcOL9A"
      },
      "source": [
        "base_de_dados = pd.read_csv('https://raw.githubusercontent.com/audreyemmely/DSProjects/master/analise-sentimento/analise-base.csv')"
      ],
      "execution_count": 2,
      "outputs": []
    },
    {
      "cell_type": "markdown",
      "metadata": {
        "id": "2i71jiuIOMFg"
      },
      "source": [
        "Olhando o existente na base de dados\n",
        "\n"
      ]
    },
    {
      "cell_type": "code",
      "metadata": {
        "id": "0NAebFpaOMMa",
        "outputId": "bbfdf675-d6d7-48a3-f472-e05f63612f96",
        "colab": {
          "base_uri": "https://localhost:8080/",
          "height": 204
        }
      },
      "source": [
        "base_de_dados.head()"
      ],
      "execution_count": 3,
      "outputs": [
        {
          "output_type": "execute_result",
          "data": {
            "text/html": [
              "<div>\n",
              "<style scoped>\n",
              "    .dataframe tbody tr th:only-of-type {\n",
              "        vertical-align: middle;\n",
              "    }\n",
              "\n",
              "    .dataframe tbody tr th {\n",
              "        vertical-align: top;\n",
              "    }\n",
              "\n",
              "    .dataframe thead th {\n",
              "        text-align: right;\n",
              "    }\n",
              "</style>\n",
              "<table border=\"1\" class=\"dataframe\">\n",
              "  <thead>\n",
              "    <tr style=\"text-align: right;\">\n",
              "      <th></th>\n",
              "      <th>Frase</th>\n",
              "      <th>Sentimento</th>\n",
              "    </tr>\n",
              "  </thead>\n",
              "  <tbody>\n",
              "    <tr>\n",
              "      <th>0</th>\n",
              "      <td>a pandemia me impediu de fazer muitas coisas l...</td>\n",
              "      <td>tristeza</td>\n",
              "    </tr>\n",
              "    <tr>\n",
              "      <th>1</th>\n",
              "      <td>acordei desanimada, não quero fazer nada o dia...</td>\n",
              "      <td>tristeza</td>\n",
              "    </tr>\n",
              "    <tr>\n",
              "      <th>2</th>\n",
              "      <td>não consigo parar de chorar, foi horrível perd...</td>\n",
              "      <td>tristeza</td>\n",
              "    </tr>\n",
              "    <tr>\n",
              "      <th>3</th>\n",
              "      <td>me sinto amada pelos meus familiares e isso me...</td>\n",
              "      <td>felicidade</td>\n",
              "    </tr>\n",
              "    <tr>\n",
              "      <th>4</th>\n",
              "      <td>estou feliz porque consegui o estágio que quer...</td>\n",
              "      <td>felicidade</td>\n",
              "    </tr>\n",
              "  </tbody>\n",
              "</table>\n",
              "</div>"
            ],
            "text/plain": [
              "                                               Frase  Sentimento\n",
              "0  a pandemia me impediu de fazer muitas coisas l...    tristeza\n",
              "1  acordei desanimada, não quero fazer nada o dia...    tristeza\n",
              "2  não consigo parar de chorar, foi horrível perd...    tristeza\n",
              "3  me sinto amada pelos meus familiares e isso me...  felicidade\n",
              "4  estou feliz porque consegui o estágio que quer...  felicidade"
            ]
          },
          "metadata": {
            "tags": []
          },
          "execution_count": 3
        }
      ]
    },
    {
      "cell_type": "markdown",
      "metadata": {
        "id": "4hMGL-EOOMTn"
      },
      "source": [
        "Contando a quantidade total de registros"
      ]
    },
    {
      "cell_type": "code",
      "metadata": {
        "id": "Nlzf8wJCOMaa",
        "outputId": "8f8b16c2-824d-4373-f1db-1abd1c995bd1",
        "colab": {
          "base_uri": "https://localhost:8080/"
        }
      },
      "source": [
        "base_de_dados.count()"
      ],
      "execution_count": 4,
      "outputs": [
        {
          "output_type": "execute_result",
          "data": {
            "text/plain": [
              "Frase         66\n",
              "Sentimento    66\n",
              "dtype: int64"
            ]
          },
          "metadata": {
            "tags": []
          },
          "execution_count": 4
        }
      ]
    },
    {
      "cell_type": "markdown",
      "metadata": {
        "id": "GhibLaVTOMhb"
      },
      "source": [
        "Contando quantas frases têm sentimento igual a felicidade"
      ]
    },
    {
      "cell_type": "code",
      "metadata": {
        "id": "FVj92KCgOMr5",
        "outputId": "fb1138af-993b-4672-9809-642c01e04386",
        "colab": {
          "base_uri": "https://localhost:8080/"
        }
      },
      "source": [
        "base_de_dados[base_de_dados.Sentimento == 'felicidade'].count()"
      ],
      "execution_count": 5,
      "outputs": [
        {
          "output_type": "execute_result",
          "data": {
            "text/plain": [
              "Frase         19\n",
              "Sentimento    19\n",
              "dtype: int64"
            ]
          },
          "metadata": {
            "tags": []
          },
          "execution_count": 5
        }
      ]
    },
    {
      "cell_type": "markdown",
      "metadata": {
        "id": "8-bc9yKeOxB_"
      },
      "source": [
        "Contando quantas frases têm sentimento igual a raiva"
      ]
    },
    {
      "cell_type": "code",
      "metadata": {
        "id": "IRYHm5o9OxJ4",
        "outputId": "91178503-fc03-40bf-a463-d477be056a92",
        "colab": {
          "base_uri": "https://localhost:8080/"
        }
      },
      "source": [
        "base_de_dados[base_de_dados.Sentimento == 'raiva'].count()"
      ],
      "execution_count": 6,
      "outputs": [
        {
          "output_type": "execute_result",
          "data": {
            "text/plain": [
              "Frase         23\n",
              "Sentimento    23\n",
              "dtype: int64"
            ]
          },
          "metadata": {
            "tags": []
          },
          "execution_count": 6
        }
      ]
    },
    {
      "cell_type": "markdown",
      "metadata": {
        "id": "7DTzxOVfOxQ4"
      },
      "source": [
        "Contando quantas frases têm sentimento igual a tristeza"
      ]
    },
    {
      "cell_type": "code",
      "metadata": {
        "id": "z5qY0i1oOxYf",
        "outputId": "1e66361b-73c2-456d-8905-5b053d043f02",
        "colab": {
          "base_uri": "https://localhost:8080/"
        }
      },
      "source": [
        "base_de_dados[base_de_dados.Sentimento == 'tristeza'].count()"
      ],
      "execution_count": 7,
      "outputs": [
        {
          "output_type": "execute_result",
          "data": {
            "text/plain": [
              "Frase         24\n",
              "Sentimento    24\n",
              "dtype: int64"
            ]
          },
          "metadata": {
            "tags": []
          },
          "execution_count": 7
        }
      ]
    },
    {
      "cell_type": "markdown",
      "metadata": {
        "id": "J1fl8BUBPpvZ"
      },
      "source": [
        "### Construindo o modelo"
      ]
    },
    {
      "cell_type": "markdown",
      "metadata": {
        "id": "guMzn-SFPy8v"
      },
      "source": [
        "Separando as frases e os sentimentos"
      ]
    },
    {
      "cell_type": "code",
      "metadata": {
        "id": "nCob-tM8P2Pq",
        "outputId": "5bb4d2bc-ade6-4a4e-91c6-899a24aeb5a7",
        "colab": {
          "base_uri": "https://localhost:8080/"
        }
      },
      "source": [
        "frases = base_de_dados['Frase'].values\n",
        "frases"
      ],
      "execution_count": 8,
      "outputs": [
        {
          "output_type": "execute_result",
          "data": {
            "text/plain": [
              "array(['a pandemia me impediu de fazer muitas coisas legais infelizmente não pude aproveitar esse ano',\n",
              "       'acordei desanimada, não quero fazer nada o dia todo',\n",
              "       'não consigo parar de chorar, foi horrível perder um parente próximo por causa de uma pandemia',\n",
              "       'me sinto amada pelos meus familiares e isso me faz muito bem',\n",
              "       'estou feliz porque consegui o estágio que queria, agora é só felicidade!',\n",
              "       'receber você na minha casa é uma alegria imensa, venha sempre que puder',\n",
              "       'me sinto muito bem hoje, estou disposta, feliz e bem humorada',\n",
              "       'te odeio pelo que você é, não pelo que faz',\n",
              "       'só tenho raiva, ódio e rancor',\n",
              "       'obrigada por me ajudar, fiquei contente com isso',\n",
              "       'estou contente fui aprovada na faculdade, vou cursar o que eu gosto',\n",
              "       'sou muito grata a você',\n",
              "       'corrupção é algo me decepciona, sempre que vejo notícias sobre isso fico mal',\n",
              "       'a covid matou muitas pessoas no mundo todo, isso é algo muito triste',\n",
              "       'meu pai está muito doente, não sei se ele vai conseguir sobreviver, estou abalada',\n",
              "       'queria que fosse o último dia da minha vida, não desejo mais viver nesse mundo injusto',\n",
              "       'não gostei de ficar no mesmo local que aquela pessoa, odeio o jeito que ela se comporta',\n",
              "       'estou a ponto de cometer um crime de tanto ódio que sinto',\n",
              "       'falhei em tudo nessa vida, fui muito humilhado, não sei mais para quê sirvo',\n",
              "       'fui demitida essa semana, e não sei o que fazer, me sinto triste com toda essa situação',\n",
              "       'já é tarde demais infelizmente nosso amor acabou não quero ficar com você',\n",
              "       'eu sinto ciúmes e a raiva vem de brinde',\n",
              "       'odeio lições de moral, especialmente de quem não tem moral',\n",
              "       'tem gente que não adianta mandar para o inferno, porque o capeta devolve',\n",
              "       'que alegria ter a companhia de vocês nesse dia especial, me sinto bem com todos ao meu lado',\n",
              "       'desejo a você tudo de bom, muitas felicidades',\n",
              "       'a saudade é algo triste',\n",
              "       'sem você aqui o tempo só maltrata os dias são ruins, a vida tá sem graça',\n",
              "       'tenho tanto azar, fico mais triste ainda com isso',\n",
              "       'você faz falta',\n",
              "       'ainda bem que te encontrei agora sou mais feliz',\n",
              "       'está tudo indo muito bem, todos estão felizes com suas vidas',\n",
              "       'odiei essa roupa que ganhei, a pessoa sabe que odeio e mesmo assim comprou para mim',\n",
              "       'que trânsito maldito, perdi muito tempo parado aqui nessa porra',\n",
              "       'este é um trabalho agradável, o ambiente é bastante acolhedor ',\n",
              "       'hoje é um belo dia para viver e se divertir',\n",
              "       'que ótimo dia, vai dar tudo certo',\n",
              "       'saber encontrar a alegria na alegria dos outros, é o segredo da felicidade',\n",
              "       'a alegria de fazer o bem é a única felicidade verdadeira',\n",
              "       'o melhor lugar do mundo é sempre ao lado de quem te faz feliz',\n",
              "       'a maior felicidade é ver algum amigo meu atingir seus objetivos, comemoro como se fosse uma vitória minha',\n",
              "       'o meu trabalho me deixa imensamente feliz, adoro a área que atuo',\n",
              "       'não teria que controlar a minha raiva se as pessoas aprendessem a controlar a estupidez',\n",
              "       'me sinto vazia, sem ela nada disso importa',\n",
              "       'que droga, eu não passei de ano na escola',\n",
              "       'não tenho paciência com gente lerda e burra',\n",
              "       'infelizmente terei que deixar você, vamos acabar nosso relacionamento',\n",
              "       'sacrificar ou maltratar animais devido à ganância é muito triste',\n",
              "       'acordei triste demais, não consigo sequer sair da minha cama',\n",
              "       'o que me deixa triste é saber que não posso fazer nada para ajudar, me sinto inútil vendo algo ruim acontecer',\n",
              "       'porra, eu não quero esperar nada, sai da minha frente',\n",
              "       'preconceito me dá muita raiva, que povo escroto',\n",
              "       'saia de perto de mim agora',\n",
              "       'se ele não sair daqui agora, vou bater nele',\n",
              "       'odeio ter que acordar muito cedo', 'eu vou matar ele',\n",
              "       'te odeio, não quero mais saber de você',\n",
              "       'não quero saber de nada', 'odeio essa lanchonete',\n",
              "       'o passeio que a gente fez hoje foi horrível, só perdi meu tempo',\n",
              "       'se meus olhos mostrassem a minha alma, todos, ao me verem, chorariam comigo',\n",
              "       'sofro com essa distância entre nós, não aguento mais ficar longe',\n",
              "       'estou em grande sofrimento me ajude',\n",
              "       'me sinto só, me sinto triste, já não vejo mais sentido em nada que faço só queria que essa dor passasse',\n",
              "       'queria parar de chorar por um momento, me sinto mal a todo instante, qualquer ambiente me deixa mal',\n",
              "       'choro porque é a única forma de me livrar dessa tristeza'],\n",
              "      dtype=object)"
            ]
          },
          "metadata": {
            "tags": []
          },
          "execution_count": 8
        }
      ]
    },
    {
      "cell_type": "code",
      "metadata": {
        "id": "4JBcUg0HP2Ga",
        "outputId": "48159273-8cc9-482d-96da-bcf4c9225e4d",
        "colab": {
          "base_uri": "https://localhost:8080/"
        }
      },
      "source": [
        "sentimentos = base_de_dados['Sentimento'].values\n",
        "sentimentos"
      ],
      "execution_count": 9,
      "outputs": [
        {
          "output_type": "execute_result",
          "data": {
            "text/plain": [
              "array(['tristeza', 'tristeza', 'tristeza', 'felicidade', 'felicidade',\n",
              "       'felicidade', 'felicidade', 'raiva', 'raiva', 'felicidade',\n",
              "       'felicidade', 'felicidade', 'tristeza', 'tristeza', 'tristeza',\n",
              "       'tristeza', 'raiva', 'raiva', 'tristeza', 'tristeza', 'tristeza',\n",
              "       'raiva', 'raiva', 'raiva', 'felicidade', 'felicidade', 'tristeza',\n",
              "       'tristeza', 'tristeza', 'tristeza', 'felicidade', 'felicidade',\n",
              "       'raiva', 'raiva', 'felicidade', 'felicidade', 'felicidade',\n",
              "       'felicidade', 'felicidade', 'felicidade', 'felicidade',\n",
              "       'felicidade', 'raiva', 'raiva', 'raiva', 'raiva', 'tristeza',\n",
              "       'tristeza', 'tristeza', 'tristeza', 'raiva', 'raiva', 'raiva',\n",
              "       'raiva', 'raiva', 'raiva', 'raiva', 'raiva', 'raiva', 'raiva',\n",
              "       'tristeza', 'tristeza', 'tristeza', 'tristeza', 'tristeza',\n",
              "       'tristeza'], dtype=object)"
            ]
          },
          "metadata": {
            "tags": []
          },
          "execution_count": 9
        }
      ]
    },
    {
      "cell_type": "markdown",
      "metadata": {
        "id": "ey8KpnBdQDdD"
      },
      "source": [
        "\n",
        "Para treinar o modelo será utilizada a abordagem Bag of Words e o algoritmo Naive Bayes Multinomial\n",
        "\n",
        "Bag of Words, na prática, cria um vetor com cada uma das palavras da frase, depois, calcula a frequência em que essas palavras ocorrem, para então classificar/treinar o modelo"
      ]
    },
    {
      "cell_type": "code",
      "metadata": {
        "id": "Gj2jsfBaVBKi",
        "outputId": "887fb4fc-b987-4328-c55f-125457399f2b",
        "colab": {
          "base_uri": "https://localhost:8080/"
        }
      },
      "source": [
        "vectorizer = CountVectorizer(analyzer=\"word\")\n",
        "frequencia = vectorizer.fit_transform(frases)\n",
        "# A função fit_transform faz o processo de ajustar o modelo, aprender o vocabulário, \n",
        "# e transformar os dados de treinamento em feature vectors (vetores com frequêcia das palavras)\n",
        "\n",
        "modelo = MultinomialNB()\n",
        "modelo.fit(frequencia, sentimentos)"
      ],
      "execution_count": 10,
      "outputs": [
        {
          "output_type": "execute_result",
          "data": {
            "text/plain": [
              "MultinomialNB(alpha=1.0, class_prior=None, fit_prior=True)"
            ]
          },
          "metadata": {
            "tags": []
          },
          "execution_count": 10
        }
      ]
    }
  ]
}